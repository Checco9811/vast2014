{
 "cells": [
  {
   "cell_type": "code",
   "execution_count": 1,
   "metadata": {},
   "outputs": [],
   "source": [
    "import pandas as pd\n",
    "import numpy as np"
   ]
  },
  {
   "cell_type": "code",
   "execution_count": null,
   "metadata": {},
   "outputs": [],
   "source": []
  },
  {
   "cell_type": "code",
   "execution_count": 2,
   "metadata": {},
   "outputs": [],
   "source": [
    "gps = pd.read_csv('gps.csv')\n",
    "car_assignments = pd.read_csv('car-assignments.csv')\n",
    "cc_data = pd.read_csv('cc_data.csv', encoding = 'iso-8859-1')\n",
    "loyalty_data = pd.read_csv('loyalty_data.csv', encoding = 'iso-8859-1')"
   ]
  },
  {
   "cell_type": "code",
   "execution_count": 3,
   "metadata": {},
   "outputs": [
    {
     "output_type": "execute_result",
     "data": {
      "text/plain": [
       "                  Timestamp  id        lat       long\n",
       "0       01/06/2014 06:28:01  35  36.076225  24.874689\n",
       "1       01/06/2014 06:28:01  35  36.076220  24.874596\n",
       "2       01/06/2014 06:28:03  35  36.076211  24.874443\n",
       "3       01/06/2014 06:28:05  35  36.076217  24.874253\n",
       "4       01/06/2014 06:28:06  35  36.076214  24.874167\n",
       "...                     ...  ..        ...        ...\n",
       "685164  01/19/2014 20:56:43  30  36.058110  24.902130\n",
       "685165  01/19/2014 20:56:47  30  36.058258  24.901774\n",
       "685166  01/19/2014 20:56:48  30  36.058296  24.901711\n",
       "685167  01/19/2014 20:56:49  30  36.058304  24.901620\n",
       "685168  01/19/2014 20:56:55  30  36.058490  24.901095\n",
       "\n",
       "[685169 rows x 4 columns]"
      ],
      "text/html": "<div>\n<style scoped>\n    .dataframe tbody tr th:only-of-type {\n        vertical-align: middle;\n    }\n\n    .dataframe tbody tr th {\n        vertical-align: top;\n    }\n\n    .dataframe thead th {\n        text-align: right;\n    }\n</style>\n<table border=\"1\" class=\"dataframe\">\n  <thead>\n    <tr style=\"text-align: right;\">\n      <th></th>\n      <th>Timestamp</th>\n      <th>id</th>\n      <th>lat</th>\n      <th>long</th>\n    </tr>\n  </thead>\n  <tbody>\n    <tr>\n      <th>0</th>\n      <td>01/06/2014 06:28:01</td>\n      <td>35</td>\n      <td>36.076225</td>\n      <td>24.874689</td>\n    </tr>\n    <tr>\n      <th>1</th>\n      <td>01/06/2014 06:28:01</td>\n      <td>35</td>\n      <td>36.076220</td>\n      <td>24.874596</td>\n    </tr>\n    <tr>\n      <th>2</th>\n      <td>01/06/2014 06:28:03</td>\n      <td>35</td>\n      <td>36.076211</td>\n      <td>24.874443</td>\n    </tr>\n    <tr>\n      <th>3</th>\n      <td>01/06/2014 06:28:05</td>\n      <td>35</td>\n      <td>36.076217</td>\n      <td>24.874253</td>\n    </tr>\n    <tr>\n      <th>4</th>\n      <td>01/06/2014 06:28:06</td>\n      <td>35</td>\n      <td>36.076214</td>\n      <td>24.874167</td>\n    </tr>\n    <tr>\n      <th>...</th>\n      <td>...</td>\n      <td>...</td>\n      <td>...</td>\n      <td>...</td>\n    </tr>\n    <tr>\n      <th>685164</th>\n      <td>01/19/2014 20:56:43</td>\n      <td>30</td>\n      <td>36.058110</td>\n      <td>24.902130</td>\n    </tr>\n    <tr>\n      <th>685165</th>\n      <td>01/19/2014 20:56:47</td>\n      <td>30</td>\n      <td>36.058258</td>\n      <td>24.901774</td>\n    </tr>\n    <tr>\n      <th>685166</th>\n      <td>01/19/2014 20:56:48</td>\n      <td>30</td>\n      <td>36.058296</td>\n      <td>24.901711</td>\n    </tr>\n    <tr>\n      <th>685167</th>\n      <td>01/19/2014 20:56:49</td>\n      <td>30</td>\n      <td>36.058304</td>\n      <td>24.901620</td>\n    </tr>\n    <tr>\n      <th>685168</th>\n      <td>01/19/2014 20:56:55</td>\n      <td>30</td>\n      <td>36.058490</td>\n      <td>24.901095</td>\n    </tr>\n  </tbody>\n</table>\n<p>685169 rows × 4 columns</p>\n</div>"
     },
     "metadata": {},
     "execution_count": 3
    }
   ],
   "source": [
    "gps"
   ]
  },
  {
   "cell_type": "code",
   "execution_count": 4,
   "metadata": {},
   "outputs": [
    {
     "output_type": "execute_result",
     "data": {
      "text/plain": [
       "   LastName FirstName  CarID   CurrentEmploymentType CurrentEmploymentTitle\n",
       "0   Alcazar     Lucas    1.0  Information Technology            IT Helpdesk\n",
       "1     Azada      Lars    2.0             Engineering               Engineer\n",
       "2     Balas     Felix    3.0             Engineering               Engineer\n",
       "3  Barranco    Ingrid    4.0               Executive                SVP/CFO\n",
       "4      Baza      Isak    5.0  Information Technology          IT Technician"
      ],
      "text/html": "<div>\n<style scoped>\n    .dataframe tbody tr th:only-of-type {\n        vertical-align: middle;\n    }\n\n    .dataframe tbody tr th {\n        vertical-align: top;\n    }\n\n    .dataframe thead th {\n        text-align: right;\n    }\n</style>\n<table border=\"1\" class=\"dataframe\">\n  <thead>\n    <tr style=\"text-align: right;\">\n      <th></th>\n      <th>LastName</th>\n      <th>FirstName</th>\n      <th>CarID</th>\n      <th>CurrentEmploymentType</th>\n      <th>CurrentEmploymentTitle</th>\n    </tr>\n  </thead>\n  <tbody>\n    <tr>\n      <th>0</th>\n      <td>Alcazar</td>\n      <td>Lucas</td>\n      <td>1.0</td>\n      <td>Information Technology</td>\n      <td>IT Helpdesk</td>\n    </tr>\n    <tr>\n      <th>1</th>\n      <td>Azada</td>\n      <td>Lars</td>\n      <td>2.0</td>\n      <td>Engineering</td>\n      <td>Engineer</td>\n    </tr>\n    <tr>\n      <th>2</th>\n      <td>Balas</td>\n      <td>Felix</td>\n      <td>3.0</td>\n      <td>Engineering</td>\n      <td>Engineer</td>\n    </tr>\n    <tr>\n      <th>3</th>\n      <td>Barranco</td>\n      <td>Ingrid</td>\n      <td>4.0</td>\n      <td>Executive</td>\n      <td>SVP/CFO</td>\n    </tr>\n    <tr>\n      <th>4</th>\n      <td>Baza</td>\n      <td>Isak</td>\n      <td>5.0</td>\n      <td>Information Technology</td>\n      <td>IT Technician</td>\n    </tr>\n  </tbody>\n</table>\n</div>"
     },
     "metadata": {},
     "execution_count": 4
    }
   ],
   "source": [
    "car_assignments.head()"
   ]
  },
  {
   "cell_type": "code",
   "execution_count": 5,
   "metadata": {},
   "outputs": [
    {
     "output_type": "execute_result",
     "data": {
      "text/plain": [
       "       timestamp             location  price FirstName  LastName\n",
       "0  1/6/2014 7:28  Brew've Been Served  11.34    Edvard      Vann\n",
       "1  1/6/2014 7:34     Hallowed Grounds  52.22    Hideki  Cocinaro\n",
       "2  1/6/2014 7:35  Brew've Been Served   8.33    Stenig     Fusil\n",
       "3  1/6/2014 7:36     Hallowed Grounds  16.72  Birgitta    Frente\n",
       "4  1/6/2014 7:37  Brew've Been Served   4.24      Sven    Flecha"
      ],
      "text/html": "<div>\n<style scoped>\n    .dataframe tbody tr th:only-of-type {\n        vertical-align: middle;\n    }\n\n    .dataframe tbody tr th {\n        vertical-align: top;\n    }\n\n    .dataframe thead th {\n        text-align: right;\n    }\n</style>\n<table border=\"1\" class=\"dataframe\">\n  <thead>\n    <tr style=\"text-align: right;\">\n      <th></th>\n      <th>timestamp</th>\n      <th>location</th>\n      <th>price</th>\n      <th>FirstName</th>\n      <th>LastName</th>\n    </tr>\n  </thead>\n  <tbody>\n    <tr>\n      <th>0</th>\n      <td>1/6/2014 7:28</td>\n      <td>Brew've Been Served</td>\n      <td>11.34</td>\n      <td>Edvard</td>\n      <td>Vann</td>\n    </tr>\n    <tr>\n      <th>1</th>\n      <td>1/6/2014 7:34</td>\n      <td>Hallowed Grounds</td>\n      <td>52.22</td>\n      <td>Hideki</td>\n      <td>Cocinaro</td>\n    </tr>\n    <tr>\n      <th>2</th>\n      <td>1/6/2014 7:35</td>\n      <td>Brew've Been Served</td>\n      <td>8.33</td>\n      <td>Stenig</td>\n      <td>Fusil</td>\n    </tr>\n    <tr>\n      <th>3</th>\n      <td>1/6/2014 7:36</td>\n      <td>Hallowed Grounds</td>\n      <td>16.72</td>\n      <td>Birgitta</td>\n      <td>Frente</td>\n    </tr>\n    <tr>\n      <th>4</th>\n      <td>1/6/2014 7:37</td>\n      <td>Brew've Been Served</td>\n      <td>4.24</td>\n      <td>Sven</td>\n      <td>Flecha</td>\n    </tr>\n  </tbody>\n</table>\n</div>"
     },
     "metadata": {},
     "execution_count": 5
    }
   ],
   "source": [
    "cc_data.head()"
   ]
  },
  {
   "cell_type": "code",
   "execution_count": 6,
   "metadata": {},
   "outputs": [
    {
     "output_type": "execute_result",
     "data": {
      "text/plain": [
       "  timestamp             location  price FirstName  LastName\n",
       "0  1/6/2014  Brew've Been Served   4.17  Cornelia      Lais\n",
       "1  1/6/2014  Brew've Been Served   9.60       Mat    Bramar\n",
       "2  1/6/2014     Hallowed Grounds  16.53     Emile      Arpa\n",
       "3  1/6/2014         Coffee Shack  11.51     Varro    Awelon\n",
       "4  1/6/2014     Hallowed Grounds  12.93    Rachel  Pantanal"
      ],
      "text/html": "<div>\n<style scoped>\n    .dataframe tbody tr th:only-of-type {\n        vertical-align: middle;\n    }\n\n    .dataframe tbody tr th {\n        vertical-align: top;\n    }\n\n    .dataframe thead th {\n        text-align: right;\n    }\n</style>\n<table border=\"1\" class=\"dataframe\">\n  <thead>\n    <tr style=\"text-align: right;\">\n      <th></th>\n      <th>timestamp</th>\n      <th>location</th>\n      <th>price</th>\n      <th>FirstName</th>\n      <th>LastName</th>\n    </tr>\n  </thead>\n  <tbody>\n    <tr>\n      <th>0</th>\n      <td>1/6/2014</td>\n      <td>Brew've Been Served</td>\n      <td>4.17</td>\n      <td>Cornelia</td>\n      <td>Lais</td>\n    </tr>\n    <tr>\n      <th>1</th>\n      <td>1/6/2014</td>\n      <td>Brew've Been Served</td>\n      <td>9.60</td>\n      <td>Mat</td>\n      <td>Bramar</td>\n    </tr>\n    <tr>\n      <th>2</th>\n      <td>1/6/2014</td>\n      <td>Hallowed Grounds</td>\n      <td>16.53</td>\n      <td>Emile</td>\n      <td>Arpa</td>\n    </tr>\n    <tr>\n      <th>3</th>\n      <td>1/6/2014</td>\n      <td>Coffee Shack</td>\n      <td>11.51</td>\n      <td>Varro</td>\n      <td>Awelon</td>\n    </tr>\n    <tr>\n      <th>4</th>\n      <td>1/6/2014</td>\n      <td>Hallowed Grounds</td>\n      <td>12.93</td>\n      <td>Rachel</td>\n      <td>Pantanal</td>\n    </tr>\n  </tbody>\n</table>\n</div>"
     },
     "metadata": {},
     "execution_count": 6
    }
   ],
   "source": [
    "loyalty_data.head()"
   ]
  },
  {
   "cell_type": "code",
   "execution_count": 62,
   "metadata": {},
   "outputs": [
    {
     "output_type": "execute_result",
     "data": {
      "text/plain": [
       "            timestamp             location  price FirstName   LastName\n",
       "0       1/6/2014 7:28  Brew've Been Served  11.34    Edvard       Vann\n",
       "1       1/6/2014 7:34     Hallowed Grounds  52.22    Hideki   Cocinaro\n",
       "2       1/6/2014 7:35  Brew've Been Served   8.33    Stenig      Fusil\n",
       "3       1/6/2014 7:36     Hallowed Grounds  16.72  Birgitta     Frente\n",
       "4       1/6/2014 7:37  Brew've Been Served   4.24      Sven     Flecha\n",
       "...               ...                  ...    ...       ...        ...\n",
       "1486  1/19/2014 20:16          Guy's Gyros  37.48     Brand  Tempestad\n",
       "1487  1/19/2014 20:22      Katerinas Café  38.90  Birgitta     Frente\n",
       "1488  1/19/2014 20:25          Guy's Gyros  20.94    Loreto    Bodrogi\n",
       "1489  1/19/2014 20:30          Guy's Gyros  31.94     Minke       Mies\n",
       "1490  1/19/2014 20:51          Guy's Gyros  39.60     Felix    Resumir\n",
       "\n",
       "[1491 rows x 5 columns]"
      ],
      "text/html": "<div>\n<style scoped>\n    .dataframe tbody tr th:only-of-type {\n        vertical-align: middle;\n    }\n\n    .dataframe tbody tr th {\n        vertical-align: top;\n    }\n\n    .dataframe thead th {\n        text-align: right;\n    }\n</style>\n<table border=\"1\" class=\"dataframe\">\n  <thead>\n    <tr style=\"text-align: right;\">\n      <th></th>\n      <th>timestamp</th>\n      <th>location</th>\n      <th>price</th>\n      <th>FirstName</th>\n      <th>LastName</th>\n    </tr>\n  </thead>\n  <tbody>\n    <tr>\n      <th>0</th>\n      <td>1/6/2014 7:28</td>\n      <td>Brew've Been Served</td>\n      <td>11.34</td>\n      <td>Edvard</td>\n      <td>Vann</td>\n    </tr>\n    <tr>\n      <th>1</th>\n      <td>1/6/2014 7:34</td>\n      <td>Hallowed Grounds</td>\n      <td>52.22</td>\n      <td>Hideki</td>\n      <td>Cocinaro</td>\n    </tr>\n    <tr>\n      <th>2</th>\n      <td>1/6/2014 7:35</td>\n      <td>Brew've Been Served</td>\n      <td>8.33</td>\n      <td>Stenig</td>\n      <td>Fusil</td>\n    </tr>\n    <tr>\n      <th>3</th>\n      <td>1/6/2014 7:36</td>\n      <td>Hallowed Grounds</td>\n      <td>16.72</td>\n      <td>Birgitta</td>\n      <td>Frente</td>\n    </tr>\n    <tr>\n      <th>4</th>\n      <td>1/6/2014 7:37</td>\n      <td>Brew've Been Served</td>\n      <td>4.24</td>\n      <td>Sven</td>\n      <td>Flecha</td>\n    </tr>\n    <tr>\n      <th>...</th>\n      <td>...</td>\n      <td>...</td>\n      <td>...</td>\n      <td>...</td>\n      <td>...</td>\n    </tr>\n    <tr>\n      <th>1486</th>\n      <td>1/19/2014 20:16</td>\n      <td>Guy's Gyros</td>\n      <td>37.48</td>\n      <td>Brand</td>\n      <td>Tempestad</td>\n    </tr>\n    <tr>\n      <th>1487</th>\n      <td>1/19/2014 20:22</td>\n      <td>Katerinas Café</td>\n      <td>38.90</td>\n      <td>Birgitta</td>\n      <td>Frente</td>\n    </tr>\n    <tr>\n      <th>1488</th>\n      <td>1/19/2014 20:25</td>\n      <td>Guy's Gyros</td>\n      <td>20.94</td>\n      <td>Loreto</td>\n      <td>Bodrogi</td>\n    </tr>\n    <tr>\n      <th>1489</th>\n      <td>1/19/2014 20:30</td>\n      <td>Guy's Gyros</td>\n      <td>31.94</td>\n      <td>Minke</td>\n      <td>Mies</td>\n    </tr>\n    <tr>\n      <th>1490</th>\n      <td>1/19/2014 20:51</td>\n      <td>Guy's Gyros</td>\n      <td>39.60</td>\n      <td>Felix</td>\n      <td>Resumir</td>\n    </tr>\n  </tbody>\n</table>\n<p>1491 rows × 5 columns</p>\n</div>"
     },
     "metadata": {},
     "execution_count": 62
    }
   ],
   "source": [
    "cc_data"
   ]
  },
  {
   "cell_type": "code",
   "execution_count": 8,
   "metadata": {},
   "outputs": [
    {
     "output_type": "execute_result",
     "data": {
      "text/plain": [
       "      timestamp             location   price FirstName    LastName\n",
       "0      1/6/2014  Brew've Been Served    4.17  Cornelia        Lais\n",
       "1      1/6/2014  Brew've Been Served    9.60       Mat      Bramar\n",
       "2      1/6/2014     Hallowed Grounds   16.53     Emile        Arpa\n",
       "3      1/6/2014         Coffee Shack   11.51     Varro      Awelon\n",
       "4      1/6/2014     Hallowed Grounds   12.93    Rachel    Pantanal\n",
       "...         ...                  ...     ...       ...         ...\n",
       "1388  1/19/2014      Katerinas Café   70.22    Edvard        Vann\n",
       "1389  1/19/2014          Guy's Gyros   18.08      Isia        Vann\n",
       "1390  1/19/2014      Katerinas Café   35.01      Isia        Vann\n",
       "1391  1/19/2014  Desafio Golf Course  110.02    Willem  Vasco-Pais\n",
       "1392  1/19/2014          Hippokampos   63.17    Willem  Vasco-Pais\n",
       "\n",
       "[1393 rows x 5 columns]"
      ],
      "text/html": "<div>\n<style scoped>\n    .dataframe tbody tr th:only-of-type {\n        vertical-align: middle;\n    }\n\n    .dataframe tbody tr th {\n        vertical-align: top;\n    }\n\n    .dataframe thead th {\n        text-align: right;\n    }\n</style>\n<table border=\"1\" class=\"dataframe\">\n  <thead>\n    <tr style=\"text-align: right;\">\n      <th></th>\n      <th>timestamp</th>\n      <th>location</th>\n      <th>price</th>\n      <th>FirstName</th>\n      <th>LastName</th>\n    </tr>\n  </thead>\n  <tbody>\n    <tr>\n      <th>0</th>\n      <td>1/6/2014</td>\n      <td>Brew've Been Served</td>\n      <td>4.17</td>\n      <td>Cornelia</td>\n      <td>Lais</td>\n    </tr>\n    <tr>\n      <th>1</th>\n      <td>1/6/2014</td>\n      <td>Brew've Been Served</td>\n      <td>9.60</td>\n      <td>Mat</td>\n      <td>Bramar</td>\n    </tr>\n    <tr>\n      <th>2</th>\n      <td>1/6/2014</td>\n      <td>Hallowed Grounds</td>\n      <td>16.53</td>\n      <td>Emile</td>\n      <td>Arpa</td>\n    </tr>\n    <tr>\n      <th>3</th>\n      <td>1/6/2014</td>\n      <td>Coffee Shack</td>\n      <td>11.51</td>\n      <td>Varro</td>\n      <td>Awelon</td>\n    </tr>\n    <tr>\n      <th>4</th>\n      <td>1/6/2014</td>\n      <td>Hallowed Grounds</td>\n      <td>12.93</td>\n      <td>Rachel</td>\n      <td>Pantanal</td>\n    </tr>\n    <tr>\n      <th>...</th>\n      <td>...</td>\n      <td>...</td>\n      <td>...</td>\n      <td>...</td>\n      <td>...</td>\n    </tr>\n    <tr>\n      <th>1388</th>\n      <td>1/19/2014</td>\n      <td>Katerinas Café</td>\n      <td>70.22</td>\n      <td>Edvard</td>\n      <td>Vann</td>\n    </tr>\n    <tr>\n      <th>1389</th>\n      <td>1/19/2014</td>\n      <td>Guy's Gyros</td>\n      <td>18.08</td>\n      <td>Isia</td>\n      <td>Vann</td>\n    </tr>\n    <tr>\n      <th>1390</th>\n      <td>1/19/2014</td>\n      <td>Katerinas Café</td>\n      <td>35.01</td>\n      <td>Isia</td>\n      <td>Vann</td>\n    </tr>\n    <tr>\n      <th>1391</th>\n      <td>1/19/2014</td>\n      <td>Desafio Golf Course</td>\n      <td>110.02</td>\n      <td>Willem</td>\n      <td>Vasco-Pais</td>\n    </tr>\n    <tr>\n      <th>1392</th>\n      <td>1/19/2014</td>\n      <td>Hippokampos</td>\n      <td>63.17</td>\n      <td>Willem</td>\n      <td>Vasco-Pais</td>\n    </tr>\n  </tbody>\n</table>\n<p>1393 rows × 5 columns</p>\n</div>"
     },
     "metadata": {},
     "execution_count": 8
    }
   ],
   "source": [
    "loyalty_data"
   ]
  },
  {
   "cell_type": "code",
   "execution_count": 9,
   "metadata": {},
   "outputs": [
    {
     "output_type": "execute_result",
     "data": {
      "text/plain": [
       "     LastName FirstName  CarID CurrentEmploymentType CurrentEmploymentTitle\n",
       "35      Hafon    Albina    NaN            Facilities           Truck Driver\n",
       "36    Hawelon    Benito    NaN            Facilities           Truck Driver\n",
       "37    Hawelon   Claudio    NaN            Facilities           Truck Driver\n",
       "38       Mies      Henk    NaN            Facilities           Truck Driver\n",
       "39     Morlun   Valeria    NaN            Facilities           Truck Driver\n",
       "40     Morlun      Adan    NaN            Facilities           Truck Driver\n",
       "41  Morluniau   Cecilia    NaN            Facilities           Truck Driver\n",
       "42       Nant     Irene    NaN            Facilities           Truck Driver\n",
       "43   Scozzese     Dylan    NaN            Facilities           Truck Driver"
      ],
      "text/html": "<div>\n<style scoped>\n    .dataframe tbody tr th:only-of-type {\n        vertical-align: middle;\n    }\n\n    .dataframe tbody tr th {\n        vertical-align: top;\n    }\n\n    .dataframe thead th {\n        text-align: right;\n    }\n</style>\n<table border=\"1\" class=\"dataframe\">\n  <thead>\n    <tr style=\"text-align: right;\">\n      <th></th>\n      <th>LastName</th>\n      <th>FirstName</th>\n      <th>CarID</th>\n      <th>CurrentEmploymentType</th>\n      <th>CurrentEmploymentTitle</th>\n    </tr>\n  </thead>\n  <tbody>\n    <tr>\n      <th>35</th>\n      <td>Hafon</td>\n      <td>Albina</td>\n      <td>NaN</td>\n      <td>Facilities</td>\n      <td>Truck Driver</td>\n    </tr>\n    <tr>\n      <th>36</th>\n      <td>Hawelon</td>\n      <td>Benito</td>\n      <td>NaN</td>\n      <td>Facilities</td>\n      <td>Truck Driver</td>\n    </tr>\n    <tr>\n      <th>37</th>\n      <td>Hawelon</td>\n      <td>Claudio</td>\n      <td>NaN</td>\n      <td>Facilities</td>\n      <td>Truck Driver</td>\n    </tr>\n    <tr>\n      <th>38</th>\n      <td>Mies</td>\n      <td>Henk</td>\n      <td>NaN</td>\n      <td>Facilities</td>\n      <td>Truck Driver</td>\n    </tr>\n    <tr>\n      <th>39</th>\n      <td>Morlun</td>\n      <td>Valeria</td>\n      <td>NaN</td>\n      <td>Facilities</td>\n      <td>Truck Driver</td>\n    </tr>\n    <tr>\n      <th>40</th>\n      <td>Morlun</td>\n      <td>Adan</td>\n      <td>NaN</td>\n      <td>Facilities</td>\n      <td>Truck Driver</td>\n    </tr>\n    <tr>\n      <th>41</th>\n      <td>Morluniau</td>\n      <td>Cecilia</td>\n      <td>NaN</td>\n      <td>Facilities</td>\n      <td>Truck Driver</td>\n    </tr>\n    <tr>\n      <th>42</th>\n      <td>Nant</td>\n      <td>Irene</td>\n      <td>NaN</td>\n      <td>Facilities</td>\n      <td>Truck Driver</td>\n    </tr>\n    <tr>\n      <th>43</th>\n      <td>Scozzese</td>\n      <td>Dylan</td>\n      <td>NaN</td>\n      <td>Facilities</td>\n      <td>Truck Driver</td>\n    </tr>\n  </tbody>\n</table>\n</div>"
     },
     "metadata": {},
     "execution_count": 9
    }
   ],
   "source": [
    "car_assignments[car_assignments.CarID.isna()]"
   ]
  },
  {
   "cell_type": "code",
   "execution_count": 126,
   "metadata": {},
   "outputs": [
    {
     "output_type": "execute_result",
     "data": {
      "text/plain": [
       "     LastName FirstName  CarID   CurrentEmploymentType CurrentEmploymentTitle\n",
       "0     Alcazar     Lucas    1.0  Information Technology            IT Helpdesk\n",
       "1       Azada      Lars    2.0             Engineering               Engineer\n",
       "2       Balas     Felix    3.0             Engineering               Engineer\n",
       "3    Barranco    Ingrid    4.0               Executive                SVP/CFO\n",
       "4        Baza      Isak    5.0  Information Technology          IT Technician\n",
       "..        ...       ...    ...                     ...                    ...\n",
       "39     Morlun   Valeria    NaN              Facilities           Truck Driver\n",
       "40     Morlun      Adan    NaN              Facilities           Truck Driver\n",
       "41  Morluniau   Cecilia    NaN              Facilities           Truck Driver\n",
       "42       Nant     Irene    NaN              Facilities           Truck Driver\n",
       "43   Scozzese     Dylan    NaN              Facilities           Truck Driver\n",
       "\n",
       "[44 rows x 5 columns]"
      ],
      "text/html": "<div>\n<style scoped>\n    .dataframe tbody tr th:only-of-type {\n        vertical-align: middle;\n    }\n\n    .dataframe tbody tr th {\n        vertical-align: top;\n    }\n\n    .dataframe thead th {\n        text-align: right;\n    }\n</style>\n<table border=\"1\" class=\"dataframe\">\n  <thead>\n    <tr style=\"text-align: right;\">\n      <th></th>\n      <th>LastName</th>\n      <th>FirstName</th>\n      <th>CarID</th>\n      <th>CurrentEmploymentType</th>\n      <th>CurrentEmploymentTitle</th>\n    </tr>\n  </thead>\n  <tbody>\n    <tr>\n      <th>0</th>\n      <td>Alcazar</td>\n      <td>Lucas</td>\n      <td>1.0</td>\n      <td>Information Technology</td>\n      <td>IT Helpdesk</td>\n    </tr>\n    <tr>\n      <th>1</th>\n      <td>Azada</td>\n      <td>Lars</td>\n      <td>2.0</td>\n      <td>Engineering</td>\n      <td>Engineer</td>\n    </tr>\n    <tr>\n      <th>2</th>\n      <td>Balas</td>\n      <td>Felix</td>\n      <td>3.0</td>\n      <td>Engineering</td>\n      <td>Engineer</td>\n    </tr>\n    <tr>\n      <th>3</th>\n      <td>Barranco</td>\n      <td>Ingrid</td>\n      <td>4.0</td>\n      <td>Executive</td>\n      <td>SVP/CFO</td>\n    </tr>\n    <tr>\n      <th>4</th>\n      <td>Baza</td>\n      <td>Isak</td>\n      <td>5.0</td>\n      <td>Information Technology</td>\n      <td>IT Technician</td>\n    </tr>\n    <tr>\n      <th>...</th>\n      <td>...</td>\n      <td>...</td>\n      <td>...</td>\n      <td>...</td>\n      <td>...</td>\n    </tr>\n    <tr>\n      <th>39</th>\n      <td>Morlun</td>\n      <td>Valeria</td>\n      <td>NaN</td>\n      <td>Facilities</td>\n      <td>Truck Driver</td>\n    </tr>\n    <tr>\n      <th>40</th>\n      <td>Morlun</td>\n      <td>Adan</td>\n      <td>NaN</td>\n      <td>Facilities</td>\n      <td>Truck Driver</td>\n    </tr>\n    <tr>\n      <th>41</th>\n      <td>Morluniau</td>\n      <td>Cecilia</td>\n      <td>NaN</td>\n      <td>Facilities</td>\n      <td>Truck Driver</td>\n    </tr>\n    <tr>\n      <th>42</th>\n      <td>Nant</td>\n      <td>Irene</td>\n      <td>NaN</td>\n      <td>Facilities</td>\n      <td>Truck Driver</td>\n    </tr>\n    <tr>\n      <th>43</th>\n      <td>Scozzese</td>\n      <td>Dylan</td>\n      <td>NaN</td>\n      <td>Facilities</td>\n      <td>Truck Driver</td>\n    </tr>\n  </tbody>\n</table>\n<p>44 rows × 5 columns</p>\n</div>"
     },
     "metadata": {},
     "execution_count": 126
    }
   ],
   "source": [
    "pd.set_option('display.max_rows', 10)\n",
    "car_assignments"
   ]
  },
  {
   "cell_type": "code",
   "execution_count": 99,
   "metadata": {},
   "outputs": [
    {
     "output_type": "execute_result",
     "data": {
      "text/plain": [
       "{'Alcazar': 1.0,\n",
       " 'Azada': 2.0,\n",
       " 'Balas': 3.0,\n",
       " 'Barranco': 4.0,\n",
       " 'Baza': 5.0,\n",
       " 'Bergen': 6.0,\n",
       " 'Borrasca': 7.0,\n",
       " 'Calixto': 8.0,\n",
       " 'Calzas': 9.0,\n",
       " 'Campo-Corrente': 10.0,\n",
       " 'Cazar': 11.0,\n",
       " 'Cocinaro': 12.0,\n",
       " 'Ferro': 13.0,\n",
       " 'Dedos': 14.0,\n",
       " 'Bodrogi': 15.0,\n",
       " 'Vann': 34.0,\n",
       " 'Flecha': 17.0,\n",
       " 'Frente': 19.0,\n",
       " 'Fusil': 20.0,\n",
       " 'Osvaldo': 21.0,\n",
       " 'Herrero': 22.0,\n",
       " 'Lagos': 23.0,\n",
       " 'Mies': nan,\n",
       " 'Nubarron': 25.0,\n",
       " 'Onda': 26.0,\n",
       " 'Orilla': 28.0,\n",
       " 'Ovan': 29.0,\n",
       " 'Resumir': 30.0,\n",
       " 'Sanjorge Jr.': 31.0,\n",
       " 'Strum': 32.0,\n",
       " 'Tempestad': 33.0,\n",
       " 'Vasco-Pais': 35.0,\n",
       " 'Hafon': nan,\n",
       " 'Hawelon': nan,\n",
       " 'Morlun': nan,\n",
       " 'Morluniau': nan,\n",
       " 'Nant': nan,\n",
       " 'Scozzese': nan}"
      ]
     },
     "metadata": {},
     "execution_count": 99
    }
   ],
   "source": [
    "names_dict = dict(zip(car_assignments.LastName, car_assignments.CarID))\n",
    "names_dict"
   ]
  },
  {
   "cell_type": "code",
   "execution_count": 88,
   "metadata": {},
   "outputs": [
    {
     "output_type": "stream",
     "name": "stderr",
     "text": [
      "<ipython-input-88-1dfe38bcf64f>:1: FutureWarning: Indexing with multiple keys (implicitly converted to a tuple of keys) will be deprecated, use a list instead.\n  group = gps.groupby(\"id\")[\"Timestamp\", \"lat\", \"long\"].agg(lambda x: list(x))\n"
     ]
    }
   ],
   "source": [
    "group = gps.groupby(\"id\")[\"Timestamp\", \"lat\", \"long\"].agg(lambda x: list(x))"
   ]
  },
  {
   "cell_type": "code",
   "execution_count": 89,
   "metadata": {},
   "outputs": [
    {
     "output_type": "execute_result",
     "data": {
      "text/plain": [
       "                                             Timestamp  \\\n",
       "id                                                       \n",
       "1    [01/06/2014 07:20:01, 01/06/2014 07:20:03, 01/...   \n",
       "2    [01/06/2014 07:30:01, 01/06/2014 07:30:01, 01/...   \n",
       "3    [01/06/2014 07:19:01, 01/06/2014 07:19:04, 01/...   \n",
       "4    [01/06/2014 06:33:01, 01/06/2014 06:33:01, 01/...   \n",
       "5    [01/06/2014 07:59:01, 01/06/2014 07:59:07, 01/...   \n",
       "..                                                 ...   \n",
       "101  [01/06/2014 07:36:01, 01/06/2014 07:36:01, 01/...   \n",
       "104  [01/06/2014 10:32:33, 01/06/2014 10:32:33, 01/...   \n",
       "105  [01/07/2014 08:50:54, 01/07/2014 08:50:54, 01/...   \n",
       "106  [01/07/2014 12:25:50, 01/07/2014 12:25:50, 01/...   \n",
       "107  [01/06/2014 08:46:20, 01/06/2014 08:46:20, 01/...   \n",
       "\n",
       "                                                   lat  \\\n",
       "id                                                       \n",
       "1    [36.066457, 36.06634441, 36.066146999999994, 3...   \n",
       "2    [36.08545957, 36.08550638, 36.08544892, 36.085...   \n",
       "3    [36.0866807, 36.08662352, 36.08664181, 36.0866...   \n",
       "4    [36.07820944, 36.07819206, 36.0782097, 36.0781...   \n",
       "5    [36.06730309, 36.06735541, 36.06733524, 36.067...   \n",
       "..                                                 ...   \n",
       "101  [36.04802745, 36.04807266, 36.04812822, 36.048...   \n",
       "104  [36.04802836, 36.04811117, 36.04820538, 36.048...   \n",
       "105  [36.04802816, 36.04807319, 36.0481277, 36.0481...   \n",
       "106  [36.04802843, 36.04811248, 36.04820482, 36.048...   \n",
       "107  [36.04803001, 36.04808113, 36.048127, 36.04817...   \n",
       "\n",
       "                                                  long  \n",
       "id                                                      \n",
       "1    [24.88258237, 24.88258921, 24.88258397, 24.882...  \n",
       "2    [24.86037898, 24.860381699999998, 24.86022256,...  \n",
       "3    [24.85762836, 24.85742898, 24.85726684, 24.857...  \n",
       "4    [24.87214094, 24.87205572, 24.87194836, 24.871...  \n",
       "5    [24.8778979, 24.87757989, 24.87745793, 24.8774...  \n",
       "..                                                 ...  \n",
       "101  [24.87957667, 24.87957652, 24.87957357, 24.879...  \n",
       "104  [24.879574800000004, 24.87957595, 24.87957466,...  \n",
       "105  [24.87956681, 24.879572, 24.87957035, 24.87957...  \n",
       "106  [24.87956736, 24.87956721, 24.87957407, 24.879...  \n",
       "107  [24.87957636, 24.87956513, 24.87956961, 24.879...  \n",
       "\n",
       "[40 rows x 3 columns]"
      ],
      "text/html": "<div>\n<style scoped>\n    .dataframe tbody tr th:only-of-type {\n        vertical-align: middle;\n    }\n\n    .dataframe tbody tr th {\n        vertical-align: top;\n    }\n\n    .dataframe thead th {\n        text-align: right;\n    }\n</style>\n<table border=\"1\" class=\"dataframe\">\n  <thead>\n    <tr style=\"text-align: right;\">\n      <th></th>\n      <th>Timestamp</th>\n      <th>lat</th>\n      <th>long</th>\n    </tr>\n    <tr>\n      <th>id</th>\n      <th></th>\n      <th></th>\n      <th></th>\n    </tr>\n  </thead>\n  <tbody>\n    <tr>\n      <th>1</th>\n      <td>[01/06/2014 07:20:01, 01/06/2014 07:20:03, 01/...</td>\n      <td>[36.066457, 36.06634441, 36.066146999999994, 3...</td>\n      <td>[24.88258237, 24.88258921, 24.88258397, 24.882...</td>\n    </tr>\n    <tr>\n      <th>2</th>\n      <td>[01/06/2014 07:30:01, 01/06/2014 07:30:01, 01/...</td>\n      <td>[36.08545957, 36.08550638, 36.08544892, 36.085...</td>\n      <td>[24.86037898, 24.860381699999998, 24.86022256,...</td>\n    </tr>\n    <tr>\n      <th>3</th>\n      <td>[01/06/2014 07:19:01, 01/06/2014 07:19:04, 01/...</td>\n      <td>[36.0866807, 36.08662352, 36.08664181, 36.0866...</td>\n      <td>[24.85762836, 24.85742898, 24.85726684, 24.857...</td>\n    </tr>\n    <tr>\n      <th>4</th>\n      <td>[01/06/2014 06:33:01, 01/06/2014 06:33:01, 01/...</td>\n      <td>[36.07820944, 36.07819206, 36.0782097, 36.0781...</td>\n      <td>[24.87214094, 24.87205572, 24.87194836, 24.871...</td>\n    </tr>\n    <tr>\n      <th>5</th>\n      <td>[01/06/2014 07:59:01, 01/06/2014 07:59:07, 01/...</td>\n      <td>[36.06730309, 36.06735541, 36.06733524, 36.067...</td>\n      <td>[24.8778979, 24.87757989, 24.87745793, 24.8774...</td>\n    </tr>\n    <tr>\n      <th>...</th>\n      <td>...</td>\n      <td>...</td>\n      <td>...</td>\n    </tr>\n    <tr>\n      <th>101</th>\n      <td>[01/06/2014 07:36:01, 01/06/2014 07:36:01, 01/...</td>\n      <td>[36.04802745, 36.04807266, 36.04812822, 36.048...</td>\n      <td>[24.87957667, 24.87957652, 24.87957357, 24.879...</td>\n    </tr>\n    <tr>\n      <th>104</th>\n      <td>[01/06/2014 10:32:33, 01/06/2014 10:32:33, 01/...</td>\n      <td>[36.04802836, 36.04811117, 36.04820538, 36.048...</td>\n      <td>[24.879574800000004, 24.87957595, 24.87957466,...</td>\n    </tr>\n    <tr>\n      <th>105</th>\n      <td>[01/07/2014 08:50:54, 01/07/2014 08:50:54, 01/...</td>\n      <td>[36.04802816, 36.04807319, 36.0481277, 36.0481...</td>\n      <td>[24.87956681, 24.879572, 24.87957035, 24.87957...</td>\n    </tr>\n    <tr>\n      <th>106</th>\n      <td>[01/07/2014 12:25:50, 01/07/2014 12:25:50, 01/...</td>\n      <td>[36.04802843, 36.04811248, 36.04820482, 36.048...</td>\n      <td>[24.87956736, 24.87956721, 24.87957407, 24.879...</td>\n    </tr>\n    <tr>\n      <th>107</th>\n      <td>[01/06/2014 08:46:20, 01/06/2014 08:46:20, 01/...</td>\n      <td>[36.04803001, 36.04808113, 36.048127, 36.04817...</td>\n      <td>[24.87957636, 24.87956513, 24.87956961, 24.879...</td>\n    </tr>\n  </tbody>\n</table>\n<p>40 rows × 3 columns</p>\n</div>"
     },
     "metadata": {},
     "execution_count": 89
    }
   ],
   "source": [
    "group"
   ]
  },
  {
   "cell_type": "code",
   "execution_count": 118,
   "metadata": {},
   "outputs": [],
   "source": [
    "\n",
    "from datetime import datetime\n",
    "import tqdm as tqdm\n"
   ]
  },
  {
   "cell_type": "code",
   "execution_count": 121,
   "metadata": {},
   "outputs": [],
   "source": [
    "names = car_assignments.LastName.unique()\n",
    "results = []"
   ]
  },
  {
   "cell_type": "code",
   "execution_count": 122,
   "metadata": {},
   "outputs": [
    {
     "output_type": "stream",
     "name": "stderr",
     "text": [
      "100%|██████████| 1491/1491 [13:30<00:00,  1.84it/s]\n"
     ]
    }
   ],
   "source": [
    "for i in tqdm.tqdm(cc_data.index):\n",
    "    timestamp = cc_data.iloc[i].timestamp\n",
    "    date = datetime.strptime(timestamp, \"%m/%d/%Y %H:%M\")\n",
    "    location = cc_data.iloc[i].location\n",
    "    price = cc_data.iloc[i].price\n",
    "    first_name = cc_data.iloc[i].FirstName\n",
    "    last_name = cc_data.iloc[i].LastName\n",
    "\n",
    "    if last_name in names and not np.isnan(names_dict[last_name]):\n",
    "        row = group.iloc[int(names_dict[last_name])]\n",
    "\n",
    "        j_min = np.inf\n",
    "        t_min = np.inf\n",
    "\n",
    "        for j in range(len(row.Timestamp)):\n",
    "            d = datetime.strptime(row.Timestamp[j], \"%m/%d/%Y %H:%M:%S\")\n",
    "            if(abs(date-d).seconds < t_min):\n",
    "                j_min = j\n",
    "                t_min = abs(date-d).seconds\n",
    "        \n",
    "        results.append((timestamp, date, location, price, first_name, last_name, row.lat[j_min], row.long[j_min]))"
   ]
  },
  {
   "cell_type": "code",
   "execution_count": 124,
   "metadata": {},
   "outputs": [
    {
     "output_type": "execute_result",
     "data": {
      "text/plain": [
       "       timestamp                date             location  price FirstName  \\\n",
       "0  1/6/2014 7:28 2014-01-06 07:28:00  Brew've Been Served  11.34    Edvard   \n",
       "1  1/6/2014 7:34 2014-01-06 07:34:00     Hallowed Grounds  52.22    Hideki   \n",
       "2  1/6/2014 7:35 2014-01-06 07:35:00  Brew've Been Served   8.33    Stenig   \n",
       "3  1/6/2014 7:36 2014-01-06 07:36:00     Hallowed Grounds  16.72  Birgitta   \n",
       "4  1/6/2014 7:37 2014-01-06 07:37:00  Brew've Been Served   4.24      Sven   \n",
       "\n",
       "   LastName        lat       long  \n",
       "0      Vann  36.048021  24.879570  \n",
       "1  Cocinaro  36.057933  24.903888  \n",
       "2     Fusil  36.060440  24.905661  \n",
       "3    Frente  36.054027  24.901194  \n",
       "4    Flecha  36.063674  24.885900  "
      ],
      "text/html": "<div>\n<style scoped>\n    .dataframe tbody tr th:only-of-type {\n        vertical-align: middle;\n    }\n\n    .dataframe tbody tr th {\n        vertical-align: top;\n    }\n\n    .dataframe thead th {\n        text-align: right;\n    }\n</style>\n<table border=\"1\" class=\"dataframe\">\n  <thead>\n    <tr style=\"text-align: right;\">\n      <th></th>\n      <th>timestamp</th>\n      <th>date</th>\n      <th>location</th>\n      <th>price</th>\n      <th>FirstName</th>\n      <th>LastName</th>\n      <th>lat</th>\n      <th>long</th>\n    </tr>\n  </thead>\n  <tbody>\n    <tr>\n      <th>0</th>\n      <td>1/6/2014 7:28</td>\n      <td>2014-01-06 07:28:00</td>\n      <td>Brew've Been Served</td>\n      <td>11.34</td>\n      <td>Edvard</td>\n      <td>Vann</td>\n      <td>36.048021</td>\n      <td>24.879570</td>\n    </tr>\n    <tr>\n      <th>1</th>\n      <td>1/6/2014 7:34</td>\n      <td>2014-01-06 07:34:00</td>\n      <td>Hallowed Grounds</td>\n      <td>52.22</td>\n      <td>Hideki</td>\n      <td>Cocinaro</td>\n      <td>36.057933</td>\n      <td>24.903888</td>\n    </tr>\n    <tr>\n      <th>2</th>\n      <td>1/6/2014 7:35</td>\n      <td>2014-01-06 07:35:00</td>\n      <td>Brew've Been Served</td>\n      <td>8.33</td>\n      <td>Stenig</td>\n      <td>Fusil</td>\n      <td>36.060440</td>\n      <td>24.905661</td>\n    </tr>\n    <tr>\n      <th>3</th>\n      <td>1/6/2014 7:36</td>\n      <td>2014-01-06 07:36:00</td>\n      <td>Hallowed Grounds</td>\n      <td>16.72</td>\n      <td>Birgitta</td>\n      <td>Frente</td>\n      <td>36.054027</td>\n      <td>24.901194</td>\n    </tr>\n    <tr>\n      <th>4</th>\n      <td>1/6/2014 7:37</td>\n      <td>2014-01-06 07:37:00</td>\n      <td>Brew've Been Served</td>\n      <td>4.24</td>\n      <td>Sven</td>\n      <td>Flecha</td>\n      <td>36.063674</td>\n      <td>24.885900</td>\n    </tr>\n  </tbody>\n</table>\n</div>"
     },
     "metadata": {},
     "execution_count": 124
    }
   ],
   "source": [
    "df = pd.DataFrame (results, columns=['timestamp', 'date', 'location', 'price', 'FirstName', 'LastName', 'lat', 'long'])\n",
    "df.head()"
   ]
  },
  {
   "cell_type": "code",
   "execution_count": 128,
   "metadata": {},
   "outputs": [],
   "source": [
    "df = df.drop(columns = [\"date\"])"
   ]
  },
  {
   "cell_type": "code",
   "execution_count": 130,
   "metadata": {},
   "outputs": [],
   "source": [
    "df['CarID'] = df.LastName.apply(lambda x: names_dict[x])"
   ]
  },
  {
   "cell_type": "code",
   "execution_count": 133,
   "metadata": {},
   "outputs": [],
   "source": [
    "df = df.dropna()"
   ]
  },
  {
   "cell_type": "code",
   "execution_count": 135,
   "metadata": {},
   "outputs": [],
   "source": [
    "df.to_csv('cc_data_processed.csv')"
   ]
  },
  {
   "cell_type": "code",
   "execution_count": null,
   "metadata": {},
   "outputs": [],
   "source": []
  },
  {
   "cell_type": "code",
   "execution_count": null,
   "metadata": {},
   "outputs": [],
   "source": []
  },
  {
   "cell_type": "code",
   "execution_count": 136,
   "metadata": {},
   "outputs": [
    {
     "output_type": "stream",
     "name": "stderr",
     "text": [
      "  0%|          | 0/1393 [00:00<?, ?it/s]\n"
     ]
    },
    {
     "output_type": "error",
     "ename": "ValueError",
     "evalue": "time data '1/6/2014' does not match format '%m/%d/%Y %H:%M'",
     "traceback": [
      "\u001b[1;31m---------------------------------------------------------------------------\u001b[0m",
      "\u001b[1;31mValueError\u001b[0m                                Traceback (most recent call last)",
      "\u001b[1;32m<ipython-input-136-5be606a99691>\u001b[0m in \u001b[0;36m<module>\u001b[1;34m\u001b[0m\n\u001b[0;32m      3\u001b[0m \u001b[1;32mfor\u001b[0m \u001b[0mi\u001b[0m \u001b[1;32min\u001b[0m \u001b[0mtqdm\u001b[0m\u001b[1;33m.\u001b[0m\u001b[0mtqdm\u001b[0m\u001b[1;33m(\u001b[0m\u001b[0mloyalty_data\u001b[0m\u001b[1;33m.\u001b[0m\u001b[0mindex\u001b[0m\u001b[1;33m)\u001b[0m\u001b[1;33m:\u001b[0m\u001b[1;33m\u001b[0m\u001b[1;33m\u001b[0m\u001b[0m\n\u001b[0;32m      4\u001b[0m     \u001b[0mtimestamp\u001b[0m \u001b[1;33m=\u001b[0m \u001b[0mloyalty_data\u001b[0m\u001b[1;33m.\u001b[0m\u001b[0miloc\u001b[0m\u001b[1;33m[\u001b[0m\u001b[0mi\u001b[0m\u001b[1;33m]\u001b[0m\u001b[1;33m.\u001b[0m\u001b[0mtimestamp\u001b[0m\u001b[1;33m\u001b[0m\u001b[1;33m\u001b[0m\u001b[0m\n\u001b[1;32m----> 5\u001b[1;33m     \u001b[0mdate\u001b[0m \u001b[1;33m=\u001b[0m \u001b[0mdatetime\u001b[0m\u001b[1;33m.\u001b[0m\u001b[0mstrptime\u001b[0m\u001b[1;33m(\u001b[0m\u001b[0mtimestamp\u001b[0m\u001b[1;33m,\u001b[0m \u001b[1;34m\"%m/%d/%Y %H:%M\"\u001b[0m\u001b[1;33m)\u001b[0m\u001b[1;33m\u001b[0m\u001b[1;33m\u001b[0m\u001b[0m\n\u001b[0m\u001b[0;32m      6\u001b[0m     \u001b[0mlocation\u001b[0m \u001b[1;33m=\u001b[0m \u001b[0mloyalty_data\u001b[0m\u001b[1;33m.\u001b[0m\u001b[0miloc\u001b[0m\u001b[1;33m[\u001b[0m\u001b[0mi\u001b[0m\u001b[1;33m]\u001b[0m\u001b[1;33m.\u001b[0m\u001b[0mlocation\u001b[0m\u001b[1;33m\u001b[0m\u001b[1;33m\u001b[0m\u001b[0m\n\u001b[0;32m      7\u001b[0m     \u001b[0mprice\u001b[0m \u001b[1;33m=\u001b[0m \u001b[0mloyalty_data\u001b[0m\u001b[1;33m.\u001b[0m\u001b[0miloc\u001b[0m\u001b[1;33m[\u001b[0m\u001b[0mi\u001b[0m\u001b[1;33m]\u001b[0m\u001b[1;33m.\u001b[0m\u001b[0mprice\u001b[0m\u001b[1;33m\u001b[0m\u001b[1;33m\u001b[0m\u001b[0m\n",
      "\u001b[1;32m~\\anaconda3\\lib\\_strptime.py\u001b[0m in \u001b[0;36m_strptime_datetime\u001b[1;34m(cls, data_string, format)\u001b[0m\n\u001b[0;32m    566\u001b[0m     \"\"\"Return a class cls instance based on the input string and the\n\u001b[0;32m    567\u001b[0m     format string.\"\"\"\n\u001b[1;32m--> 568\u001b[1;33m     \u001b[0mtt\u001b[0m\u001b[1;33m,\u001b[0m \u001b[0mfraction\u001b[0m\u001b[1;33m,\u001b[0m \u001b[0mgmtoff_fraction\u001b[0m \u001b[1;33m=\u001b[0m \u001b[0m_strptime\u001b[0m\u001b[1;33m(\u001b[0m\u001b[0mdata_string\u001b[0m\u001b[1;33m,\u001b[0m \u001b[0mformat\u001b[0m\u001b[1;33m)\u001b[0m\u001b[1;33m\u001b[0m\u001b[1;33m\u001b[0m\u001b[0m\n\u001b[0m\u001b[0;32m    569\u001b[0m     \u001b[0mtzname\u001b[0m\u001b[1;33m,\u001b[0m \u001b[0mgmtoff\u001b[0m \u001b[1;33m=\u001b[0m \u001b[0mtt\u001b[0m\u001b[1;33m[\u001b[0m\u001b[1;33m-\u001b[0m\u001b[1;36m2\u001b[0m\u001b[1;33m:\u001b[0m\u001b[1;33m]\u001b[0m\u001b[1;33m\u001b[0m\u001b[1;33m\u001b[0m\u001b[0m\n\u001b[0;32m    570\u001b[0m     \u001b[0margs\u001b[0m \u001b[1;33m=\u001b[0m \u001b[0mtt\u001b[0m\u001b[1;33m[\u001b[0m\u001b[1;33m:\u001b[0m\u001b[1;36m6\u001b[0m\u001b[1;33m]\u001b[0m \u001b[1;33m+\u001b[0m \u001b[1;33m(\u001b[0m\u001b[0mfraction\u001b[0m\u001b[1;33m,\u001b[0m\u001b[1;33m)\u001b[0m\u001b[1;33m\u001b[0m\u001b[1;33m\u001b[0m\u001b[0m\n",
      "\u001b[1;32m~\\anaconda3\\lib\\_strptime.py\u001b[0m in \u001b[0;36m_strptime\u001b[1;34m(data_string, format)\u001b[0m\n\u001b[0;32m    347\u001b[0m     \u001b[0mfound\u001b[0m \u001b[1;33m=\u001b[0m \u001b[0mformat_regex\u001b[0m\u001b[1;33m.\u001b[0m\u001b[0mmatch\u001b[0m\u001b[1;33m(\u001b[0m\u001b[0mdata_string\u001b[0m\u001b[1;33m)\u001b[0m\u001b[1;33m\u001b[0m\u001b[1;33m\u001b[0m\u001b[0m\n\u001b[0;32m    348\u001b[0m     \u001b[1;32mif\u001b[0m \u001b[1;32mnot\u001b[0m \u001b[0mfound\u001b[0m\u001b[1;33m:\u001b[0m\u001b[1;33m\u001b[0m\u001b[1;33m\u001b[0m\u001b[0m\n\u001b[1;32m--> 349\u001b[1;33m         raise ValueError(\"time data %r does not match format %r\" %\n\u001b[0m\u001b[0;32m    350\u001b[0m                          (data_string, format))\n\u001b[0;32m    351\u001b[0m     \u001b[1;32mif\u001b[0m \u001b[0mlen\u001b[0m\u001b[1;33m(\u001b[0m\u001b[0mdata_string\u001b[0m\u001b[1;33m)\u001b[0m \u001b[1;33m!=\u001b[0m \u001b[0mfound\u001b[0m\u001b[1;33m.\u001b[0m\u001b[0mend\u001b[0m\u001b[1;33m(\u001b[0m\u001b[1;33m)\u001b[0m\u001b[1;33m:\u001b[0m\u001b[1;33m\u001b[0m\u001b[1;33m\u001b[0m\u001b[0m\n",
      "\u001b[1;31mValueError\u001b[0m: time data '1/6/2014' does not match format '%m/%d/%Y %H:%M'"
     ]
    }
   ],
   "source": [
    "results = []\n",
    "\n",
    "for i in tqdm.tqdm(loyalty_data.index):\n",
    "    timestamp = loyalty_data.iloc[i].timestamp\n",
    "    date = datetime.strptime(timestamp, \"%m/%d/%Y %H:%M\")\n",
    "    location = loyalty_data.iloc[i].location\n",
    "    price = loyalty_data.iloc[i].price\n",
    "    first_name = loyalty_data.iloc[i].FirstName\n",
    "    last_name = loyalty_data.iloc[i].LastName\n",
    "\n",
    "    if last_name in names and not np.isnan(names_dict[last_name]):\n",
    "        row = group.iloc[int(names_dict[last_name])]\n",
    "\n",
    "        j_min = np.inf\n",
    "        t_min = np.inf\n",
    "\n",
    "        for j in range(len(row.Timestamp)):\n",
    "            d = datetime.strptime(row.Timestamp[j], \"%m/%d/%Y %H:%M:%S\")\n",
    "            if(abs(date-d).seconds < t_min):\n",
    "                j_min = j\n",
    "                t_min = abs(date-d).seconds\n",
    "        \n",
    "        results.append((timestamp, location, price, names_dict[last_name], first_name, last_name, row.lat[j_min], row.long[j_min]))"
   ]
  },
  {
   "cell_type": "code",
   "execution_count": null,
   "metadata": {},
   "outputs": [],
   "source": [
    "df = pd.DataFrame (results, columns=['timestamp', 'location', 'price', 'CarID', 'FirstName', 'LastName', 'lat', 'long'])\n",
    "df.head()"
   ]
  },
  {
   "cell_type": "code",
   "execution_count": null,
   "metadata": {},
   "outputs": [],
   "source": []
  },
  {
   "cell_type": "code",
   "execution_count": 33,
   "metadata": {},
   "outputs": [
    {
     "data": {
      "text/html": [
       "<div>\n",
       "<style scoped>\n",
       "    .dataframe tbody tr th:only-of-type {\n",
       "        vertical-align: middle;\n",
       "    }\n",
       "\n",
       "    .dataframe tbody tr th {\n",
       "        vertical-align: top;\n",
       "    }\n",
       "\n",
       "    .dataframe thead th {\n",
       "        text-align: right;\n",
       "    }\n",
       "</style>\n",
       "<table border=\"1\" class=\"dataframe\">\n",
       "  <thead>\n",
       "    <tr style=\"text-align: right;\">\n",
       "      <th></th>\n",
       "      <th>ts</th>\n",
       "      <th>id</th>\n",
       "      <th>lat</th>\n",
       "      <th>long</th>\n",
       "      <th>Last</th>\n",
       "      <th>First</th>\n",
       "      <th>CarID</th>\n",
       "      <th>CETy</th>\n",
       "      <th>CETi</th>\n",
       "    </tr>\n",
       "  </thead>\n",
       "  <tbody>\n",
       "    <tr>\n",
       "      <th>0</th>\n",
       "      <td>01/06/2014 06:28:01</td>\n",
       "      <td>35</td>\n",
       "      <td>36.076225</td>\n",
       "      <td>24.874689</td>\n",
       "      <td>Vasco-Pais</td>\n",
       "      <td>Willem</td>\n",
       "      <td>35.0</td>\n",
       "      <td>Executive</td>\n",
       "      <td>Environmental Safety Advisor</td>\n",
       "    </tr>\n",
       "    <tr>\n",
       "      <th>1</th>\n",
       "      <td>01/06/2014 06:28:01</td>\n",
       "      <td>35</td>\n",
       "      <td>36.076220</td>\n",
       "      <td>24.874596</td>\n",
       "      <td>Vasco-Pais</td>\n",
       "      <td>Willem</td>\n",
       "      <td>35.0</td>\n",
       "      <td>Executive</td>\n",
       "      <td>Environmental Safety Advisor</td>\n",
       "    </tr>\n",
       "    <tr>\n",
       "      <th>2</th>\n",
       "      <td>01/06/2014 06:28:03</td>\n",
       "      <td>35</td>\n",
       "      <td>36.076211</td>\n",
       "      <td>24.874443</td>\n",
       "      <td>Vasco-Pais</td>\n",
       "      <td>Willem</td>\n",
       "      <td>35.0</td>\n",
       "      <td>Executive</td>\n",
       "      <td>Environmental Safety Advisor</td>\n",
       "    </tr>\n",
       "    <tr>\n",
       "      <th>3</th>\n",
       "      <td>01/06/2014 06:28:05</td>\n",
       "      <td>35</td>\n",
       "      <td>36.076217</td>\n",
       "      <td>24.874253</td>\n",
       "      <td>Vasco-Pais</td>\n",
       "      <td>Willem</td>\n",
       "      <td>35.0</td>\n",
       "      <td>Executive</td>\n",
       "      <td>Environmental Safety Advisor</td>\n",
       "    </tr>\n",
       "    <tr>\n",
       "      <th>4</th>\n",
       "      <td>01/06/2014 06:28:06</td>\n",
       "      <td>35</td>\n",
       "      <td>36.076214</td>\n",
       "      <td>24.874167</td>\n",
       "      <td>Vasco-Pais</td>\n",
       "      <td>Willem</td>\n",
       "      <td>35.0</td>\n",
       "      <td>Executive</td>\n",
       "      <td>Environmental Safety Advisor</td>\n",
       "    </tr>\n",
       "    <tr>\n",
       "      <th>...</th>\n",
       "      <td>...</td>\n",
       "      <td>...</td>\n",
       "      <td>...</td>\n",
       "      <td>...</td>\n",
       "      <td>...</td>\n",
       "      <td>...</td>\n",
       "      <td>...</td>\n",
       "      <td>...</td>\n",
       "      <td>...</td>\n",
       "    </tr>\n",
       "    <tr>\n",
       "      <th>613072</th>\n",
       "      <td>01/19/2014 19:50:14</td>\n",
       "      <td>31</td>\n",
       "      <td>36.069647</td>\n",
       "      <td>24.895208</td>\n",
       "      <td>Sanjorge Jr.</td>\n",
       "      <td>Sten</td>\n",
       "      <td>31.0</td>\n",
       "      <td>Executive</td>\n",
       "      <td>President/CEO</td>\n",
       "    </tr>\n",
       "    <tr>\n",
       "      <th>613073</th>\n",
       "      <td>01/19/2014 19:50:16</td>\n",
       "      <td>31</td>\n",
       "      <td>36.069764</td>\n",
       "      <td>24.895248</td>\n",
       "      <td>Sanjorge Jr.</td>\n",
       "      <td>Sten</td>\n",
       "      <td>31.0</td>\n",
       "      <td>Executive</td>\n",
       "      <td>President/CEO</td>\n",
       "    </tr>\n",
       "    <tr>\n",
       "      <th>613074</th>\n",
       "      <td>01/19/2014 19:50:17</td>\n",
       "      <td>31</td>\n",
       "      <td>36.069952</td>\n",
       "      <td>24.895215</td>\n",
       "      <td>Sanjorge Jr.</td>\n",
       "      <td>Sten</td>\n",
       "      <td>31.0</td>\n",
       "      <td>Executive</td>\n",
       "      <td>President/CEO</td>\n",
       "    </tr>\n",
       "    <tr>\n",
       "      <th>613075</th>\n",
       "      <td>01/19/2014 19:50:21</td>\n",
       "      <td>31</td>\n",
       "      <td>36.070235</td>\n",
       "      <td>24.895215</td>\n",
       "      <td>Sanjorge Jr.</td>\n",
       "      <td>Sten</td>\n",
       "      <td>31.0</td>\n",
       "      <td>Executive</td>\n",
       "      <td>President/CEO</td>\n",
       "    </tr>\n",
       "    <tr>\n",
       "      <th>613076</th>\n",
       "      <td>01/19/2014 19:50:26</td>\n",
       "      <td>31</td>\n",
       "      <td>36.070632</td>\n",
       "      <td>24.895227</td>\n",
       "      <td>Sanjorge Jr.</td>\n",
       "      <td>Sten</td>\n",
       "      <td>31.0</td>\n",
       "      <td>Executive</td>\n",
       "      <td>President/CEO</td>\n",
       "    </tr>\n",
       "  </tbody>\n",
       "</table>\n",
       "<p>613077 rows × 9 columns</p>\n",
       "</div>"
      ],
      "text/plain": [
       "                         ts  id        lat       long          Last   First  \\\n",
       "0       01/06/2014 06:28:01  35  36.076225  24.874689    Vasco-Pais  Willem   \n",
       "1       01/06/2014 06:28:01  35  36.076220  24.874596    Vasco-Pais  Willem   \n",
       "2       01/06/2014 06:28:03  35  36.076211  24.874443    Vasco-Pais  Willem   \n",
       "3       01/06/2014 06:28:05  35  36.076217  24.874253    Vasco-Pais  Willem   \n",
       "4       01/06/2014 06:28:06  35  36.076214  24.874167    Vasco-Pais  Willem   \n",
       "...                     ...  ..        ...        ...           ...     ...   \n",
       "613072  01/19/2014 19:50:14  31  36.069647  24.895208  Sanjorge Jr.    Sten   \n",
       "613073  01/19/2014 19:50:16  31  36.069764  24.895248  Sanjorge Jr.    Sten   \n",
       "613074  01/19/2014 19:50:17  31  36.069952  24.895215  Sanjorge Jr.    Sten   \n",
       "613075  01/19/2014 19:50:21  31  36.070235  24.895215  Sanjorge Jr.    Sten   \n",
       "613076  01/19/2014 19:50:26  31  36.070632  24.895227  Sanjorge Jr.    Sten   \n",
       "\n",
       "        CarID       CETy                          CETi  \n",
       "0        35.0  Executive  Environmental Safety Advisor  \n",
       "1        35.0  Executive  Environmental Safety Advisor  \n",
       "2        35.0  Executive  Environmental Safety Advisor  \n",
       "3        35.0  Executive  Environmental Safety Advisor  \n",
       "4        35.0  Executive  Environmental Safety Advisor  \n",
       "...       ...        ...                           ...  \n",
       "613072   31.0  Executive                 President/CEO  \n",
       "613073   31.0  Executive                 President/CEO  \n",
       "613074   31.0  Executive                 President/CEO  \n",
       "613075   31.0  Executive                 President/CEO  \n",
       "613076   31.0  Executive                 President/CEO  \n",
       "\n",
       "[613077 rows x 9 columns]"
      ]
     },
     "execution_count": 33,
     "metadata": {},
     "output_type": "execute_result"
    }
   ],
   "source": [
    "joined = joined.rename(columns={\"Timestamp\": \"ts\", \"LastName\": \"Last\", \"FirstName\": \"First\", \n",
    "                       \"CurrentEmploymentType\": \"CETy\", \"CurrentEmploymentTitle\": \"CETi\"})\n",
    "\n",
    "joined"
   ]
  },
  {
   "cell_type": "code",
   "execution_count": null,
   "metadata": {},
   "outputs": [],
   "source": []
  },
  {
   "cell_type": "code",
   "execution_count": null,
   "metadata": {},
   "outputs": [],
   "source": []
  },
  {
   "cell_type": "code",
   "execution_count": null,
   "metadata": {},
   "outputs": [],
   "source": []
  },
  {
   "cell_type": "code",
   "execution_count": null,
   "metadata": {},
   "outputs": [],
   "source": []
  },
  {
   "cell_type": "code",
   "execution_count": null,
   "metadata": {},
   "outputs": [],
   "source": []
  },
  {
   "cell_type": "code",
   "execution_count": 12,
   "metadata": {},
   "outputs": [],
   "source": [
    "joined.drop(columns=['id']).to_json(\"joined.json\", indent=0)"
   ]
  },
  {
   "cell_type": "code",
   "execution_count": 38,
   "metadata": {},
   "outputs": [
    {
     "data": {
      "text/plain": [
       "0      1.0\n",
       "1      2.0\n",
       "2      3.0\n",
       "3      4.0\n",
       "4      5.0\n",
       "5      6.0\n",
       "6      7.0\n",
       "7      8.0\n",
       "8      9.0\n",
       "9     10.0\n",
       "10    11.0\n",
       "11    12.0\n",
       "12    13.0\n",
       "13    14.0\n",
       "14    15.0\n",
       "15    16.0\n",
       "16    17.0\n",
       "17    18.0\n",
       "18    19.0\n",
       "19    20.0\n",
       "20    21.0\n",
       "21    22.0\n",
       "22    23.0\n",
       "23    24.0\n",
       "24    25.0\n",
       "25    26.0\n",
       "26    27.0\n",
       "27    28.0\n",
       "28    29.0\n",
       "29    30.0\n",
       "30    31.0\n",
       "31    32.0\n",
       "32    33.0\n",
       "33    34.0\n",
       "34    35.0\n",
       "35     NaN\n",
       "36     NaN\n",
       "37     NaN\n",
       "38     NaN\n",
       "39     NaN\n",
       "40     NaN\n",
       "41     NaN\n",
       "42     NaN\n",
       "43     NaN\n",
       "Name: CarID, dtype: float64"
      ]
     },
     "execution_count": 38,
     "metadata": {},
     "output_type": "execute_result"
    }
   ],
   "source": [
    "car_assignments.CarID"
   ]
  },
  {
   "cell_type": "code",
   "execution_count": 47,
   "metadata": {},
   "outputs": [
    {
     "data": {
      "text/plain": [
       "array([ 1,  2,  3,  4,  5,  6,  7,  8,  9, 10, 11, 12, 13, 14, 15, 16, 17,\n",
       "       18, 19, 20, 21, 22, 23, 24, 25, 26, 27, 28, 29, 30, 31, 32, 33, 34,\n",
       "       35], dtype=int64)"
      ]
     },
     "execution_count": 47,
     "metadata": {},
     "output_type": "execute_result"
    }
   ],
   "source": [
    "np.sort(joined.id.unique())"
   ]
  },
  {
   "cell_type": "code",
   "execution_count": 13,
   "metadata": {},
   "outputs": [],
   "source": [
    "joined.to_csv('gps-joined.csv')"
   ]
  },
  {
   "cell_type": "code",
   "execution_count": null,
   "metadata": {},
   "outputs": [],
   "source": []
  }
 ],
 "metadata": {
  "kernelspec": {
   "name": "python383jvsc74a57bd0b02437547403591dd264c318905defc8be959a2781e861a0f9b68d1e139b9e11",
   "display_name": "Python 3.8.3 64-bit ('base': conda)"
  },
  "language_info": {
   "codemirror_mode": {
    "name": "ipython",
    "version": 3
   },
   "file_extension": ".py",
   "mimetype": "text/x-python",
   "name": "python",
   "nbconvert_exporter": "python",
   "pygments_lexer": "ipython3",
   "version": "3.8.3"
  }
 },
 "nbformat": 4,
 "nbformat_minor": 4
}